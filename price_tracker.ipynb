{
 "cells": [
  {
   "cell_type": "code",
   "execution_count": 12,
   "source": [
    "from selenium import webdriver\r\n",
    "import time\r\n",
    "from selenium.webdriver.common.keys import Keys\r\n",
    "from selenium.webdriver.common.action_chains import ActionChains\r\n"
   ],
   "outputs": [],
   "metadata": {}
  },
  {
   "cell_type": "code",
   "execution_count": 13,
   "source": [
    "PATH = \"C:\\Program Files (x86)\\chromedriver.exe\"\r\n",
    "driver = webdriver.Chrome(PATH)\r\n",
    "action = ActionChains(driver)"
   ],
   "outputs": [],
   "metadata": {}
  },
  {
   "cell_type": "code",
   "execution_count": 14,
   "source": [
    "def sendMail(Email_id , message) :\r\n",
    "    driver.get(\"https://login.microsoftonline.com/\")\r\n",
    "    time.sleep(2)\r\n",
    "    input_for_email = driver.find_element_by_xpath('//*[@id=\"i0116\"]')\r\n",
    "    input_for_email.send_keys(\"himangshu.191mt015@nitk.edu.in\")\r\n",
    "    time.sleep(2)\r\n",
    "    button_next = driver.find_element_by_xpath(\"//*[@id='idSIButton9']\")\r\n",
    "    button_next.click()\r\n",
    "    time.sleep(2)\r\n",
    "    input_password = driver.find_element_by_xpath('//*[@id=\"i0118\"]')\r\n",
    "    input_password.send_keys(\"jyotismita\")\r\n",
    "    time.sleep(2)\r\n",
    "    button_next_pass = driver.find_element_by_xpath('//*[@id=\"idSIButton9\"]')\r\n",
    "    button_next_pass.click()\r\n",
    "    time.sleep(2)\r\n",
    "    no_button = driver.find_element_by_xpath('//*[@id=\"idBtn_Back\"]')\r\n",
    "    no_button.click()\r\n",
    "    time.sleep(2)\r\n",
    "    humburger_click = driver.find_element_by_xpath('//*[@id=\"O365_MainLink_NavMenu\"]')\r\n",
    "    humburger_click.click()\r\n",
    "    time.sleep(2)\r\n",
    "    outlook_click = driver.find_element_by_xpath('//*[@id=\"O365_AppTile_Mail\"]')\r\n",
    "    outlook_click.click()\r\n",
    "    time.sleep(2)\r\n",
    "    new_message = driver.find_element_by_class_name('GJoz3Svb7GjPbATIMTlpL')\r\n",
    "    new_message.click()\r\n",
    "    time.sleep(2)\r\n",
    "    Send_to = driver.find_element_by_xpath(\"//*[@id='ReadingPaneContainerId']/div/div/div/div[1]/div[1]/div[1]/div[1]/div[1]/div/div/div/div/div[1]/div/div/input\")\r\n",
    "    time.sleep(2)\r\n",
    "    Send_to.send_keys(Email_id)\r\n",
    "    time.sleep(2)\r\n",
    "    add_subject = driver.find_element_by_class_name('ms-TextField-field')\r\n",
    "    add_subject.send_keys(\"Welcome you to Price Tracker \")\r\n",
    "    time.sleep(2)\r\n",
    "    body_message = driver.find_element_by_class_name(\"_16VySYOFix816mo3KsgOhw\")\r\n",
    "    body_message.send_keys(message)\r\n",
    "    time.sleep(2)\r\n",
    "    send = driver.find_element_by_xpath('//*[@id=\"ReadingPaneContainerId\"]/div/div/div/div[1]/div[3]/div[2]/div[1]/div/span/button[1]')\r\n",
    "    send.click()\r\n",
    "    time.sleep(5)     \r\n"
   ],
   "outputs": [],
   "metadata": {}
  },
  {
   "cell_type": "code",
   "execution_count": null,
   "source": [],
   "outputs": [],
   "metadata": {}
  },
  {
   "cell_type": "code",
   "execution_count": 15,
   "source": [
    "url = str(input(\"Enter the url of the prduct  : \"))\r\n",
    "compare_price = int(input(\"Enter the current price or the price you want  : \"))\r\n",
    "check = True\r\n",
    "while(check):\r\n",
    "    driver.get(url)\r\n",
    "    price = driver.find_element_by_class_name(\"_30jeq3\").text\r\n",
    "    converted_price = int(price.replace(',',\"\").replace('₹' ,\"\"))\r\n",
    "    print(converted_price)\r\n",
    "    time.sleep(2)\r\n",
    "    if compare_price <= converted_price :\r\n",
    "        lower_price = int(price.replace(',',\"\").replace('₹' ,\"\"))\r\n",
    "        print(lower_price)\r\n",
    "        check= False\r\n",
    "        sendMail(\"gauravbaishya90@gmail.com.\" , f\"The price has decrease and the current price of 'MSI Bravo 15 Ryzen 5 Hexa Core 4600H - (8 GB/512 GB SSD/Windows 10 Home/4 GB Graphics/AMD Radeon RX 5500M/60 Hz) Bravo 15 A4DDR-420IN Gaming Laptop  (15.6 inch, Black, 1.96 KG)' is : {lower_price}\")\r\n",
    "        print(\"Completed...\")\r\n",
    "driver.close()"
   ],
   "outputs": [
    {
     "output_type": "stream",
     "name": "stdout",
     "text": [
      "54990\n",
      "54990\n",
      "Completed...\n"
     ]
    }
   ],
   "metadata": {}
  },
  {
   "cell_type": "code",
   "execution_count": null,
   "source": [],
   "outputs": [],
   "metadata": {}
  },
  {
   "cell_type": "code",
   "execution_count": null,
   "source": [],
   "outputs": [],
   "metadata": {}
  },
  {
   "cell_type": "code",
   "execution_count": 16,
   "source": [
    "# PATH = \"C:\\Program Files (x86)\\chromedriver.exe\"\r\n",
    "# driver = webdriver.Chrome(PATH)\r\n",
    "# time.sleep(5)\r\n",
    "# driver.get(\"https://accounts.google.com/\")\r\n",
    "# time.sleep(5)\r\n",
    "# input_for_email = driver.find_element_by_xpath(\"//*[@id='identifierId']\")\r\n",
    "# input_for_email.send_keys(\"himangshubaishya58@gmail.com\")\r\n",
    "# button_next = driver.find_element_by_xpath(\"//*[@id='identifierNext']/div/button\")\r\n",
    "# button_next.click()\r\n",
    "# time.sleep(5)\r\n",
    "# input_password = driver.find_element_by_xpath(\"//*[@id='password']/div[1]/div/div[1]/input\")\r\n",
    "# input_password.send_keys(\"jyotismita\")\r\n",
    "# button_next_pass = driver.find_element_by_xpath(\"//*[@id='passwordNext']/div/button\")\r\n",
    "# button_next_pass.click()"
   ],
   "outputs": [],
   "metadata": {}
  },
  {
   "cell_type": "code",
   "execution_count": null,
   "source": [],
   "outputs": [],
   "metadata": {}
  },
  {
   "cell_type": "code",
   "execution_count": null,
   "source": [],
   "outputs": [],
   "metadata": {}
  },
  {
   "cell_type": "code",
   "execution_count": null,
   "source": [],
   "outputs": [],
   "metadata": {}
  }
 ],
 "metadata": {
  "orig_nbformat": 4,
  "language_info": {
   "name": "python",
   "version": "3.9.5",
   "mimetype": "text/x-python",
   "codemirror_mode": {
    "name": "ipython",
    "version": 3
   },
   "pygments_lexer": "ipython3",
   "nbconvert_exporter": "python",
   "file_extension": ".py"
  },
  "kernelspec": {
   "name": "python3",
   "display_name": "Python 3.9.5 64-bit (system)"
  },
  "interpreter": {
   "hash": "0d6c302c9fb5f4562f3b026c632932202ec3f6a7cdf43a4105b0731bfe37e072"
  }
 },
 "nbformat": 4,
 "nbformat_minor": 2
}